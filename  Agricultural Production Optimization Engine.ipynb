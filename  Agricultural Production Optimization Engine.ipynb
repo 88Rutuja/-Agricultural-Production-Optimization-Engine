{
 "cells": [
  {
   "cell_type": "markdown",
   "id": "af0f6f5c",
   "metadata": {},
   "source": [
    "# Agricultural Production Optimization Engine"
   ]
  },
  {
   "cell_type": "markdown",
   "id": "58c57d71",
   "metadata": {},
   "source": [
    "# Problem Statment :\n",
    "## Build a Predictive Model so as to Suggest the most suitable Crops to grow based on the available Climatic and Soil conditions "
   ]
  },
  {
   "cell_type": "markdown",
   "id": "06c2850a",
   "metadata": {},
   "source": [
    "## Goal: Achieve Precision Farming by Optimizing the Agricultural Production"
   ]
  },
  {
   "cell_type": "code",
   "execution_count": 1,
   "id": "4bfa9159",
   "metadata": {},
   "outputs": [],
   "source": [
    "# for manipulations\n",
    "import numpy as np \n",
    "import pandas as pd \n",
    "\n",
    "#for data visualization\n",
    "import matplotlib.pyplot as plt \n",
    "import seaborn as sns \n",
    "\n",
    "# for interactivity\n",
    "from ipywidgets import interact\n",
    "\n",
    "from sklearn.metrics import classification_report"
   ]
  },
  {
   "cell_type": "code",
   "execution_count": 2,
   "id": "fa2769eb",
   "metadata": {},
   "outputs": [],
   "source": [
    "#Read the dataset\n",
    "data = pd.read_csv(r\"C:\\Users\\vedpa\\Downloads\\archive (2)\\Crop_recommendation.csv\")"
   ]
  },
  {
   "cell_type": "code",
   "execution_count": 3,
   "id": "ca298ecc",
   "metadata": {},
   "outputs": [
    {
     "data": {
      "text/plain": [
       "(2200, 8)"
      ]
     },
     "execution_count": 3,
     "metadata": {},
     "output_type": "execute_result"
    }
   ],
   "source": [
    "#shape of the dataset\n",
    "data.shape"
   ]
  },
  {
   "cell_type": "code",
   "execution_count": 4,
   "id": "0e1ebae2",
   "metadata": {},
   "outputs": [
    {
     "data": {
      "text/html": [
       "<div>\n",
       "<style scoped>\n",
       "    .dataframe tbody tr th:only-of-type {\n",
       "        vertical-align: middle;\n",
       "    }\n",
       "\n",
       "    .dataframe tbody tr th {\n",
       "        vertical-align: top;\n",
       "    }\n",
       "\n",
       "    .dataframe thead th {\n",
       "        text-align: right;\n",
       "    }\n",
       "</style>\n",
       "<table border=\"1\" class=\"dataframe\">\n",
       "  <thead>\n",
       "    <tr style=\"text-align: right;\">\n",
       "      <th></th>\n",
       "      <th>N</th>\n",
       "      <th>P</th>\n",
       "      <th>K</th>\n",
       "      <th>temperature</th>\n",
       "      <th>humidity</th>\n",
       "      <th>ph</th>\n",
       "      <th>rainfall</th>\n",
       "      <th>label</th>\n",
       "    </tr>\n",
       "  </thead>\n",
       "  <tbody>\n",
       "    <tr>\n",
       "      <th>0</th>\n",
       "      <td>90</td>\n",
       "      <td>42</td>\n",
       "      <td>43</td>\n",
       "      <td>20.879744</td>\n",
       "      <td>82.002744</td>\n",
       "      <td>6.502985</td>\n",
       "      <td>202.935536</td>\n",
       "      <td>rice</td>\n",
       "    </tr>\n",
       "    <tr>\n",
       "      <th>1</th>\n",
       "      <td>85</td>\n",
       "      <td>58</td>\n",
       "      <td>41</td>\n",
       "      <td>21.770462</td>\n",
       "      <td>80.319644</td>\n",
       "      <td>7.038096</td>\n",
       "      <td>226.655537</td>\n",
       "      <td>rice</td>\n",
       "    </tr>\n",
       "    <tr>\n",
       "      <th>2</th>\n",
       "      <td>60</td>\n",
       "      <td>55</td>\n",
       "      <td>44</td>\n",
       "      <td>23.004459</td>\n",
       "      <td>82.320763</td>\n",
       "      <td>7.840207</td>\n",
       "      <td>263.964248</td>\n",
       "      <td>rice</td>\n",
       "    </tr>\n",
       "    <tr>\n",
       "      <th>3</th>\n",
       "      <td>74</td>\n",
       "      <td>35</td>\n",
       "      <td>40</td>\n",
       "      <td>26.491096</td>\n",
       "      <td>80.158363</td>\n",
       "      <td>6.980401</td>\n",
       "      <td>242.864034</td>\n",
       "      <td>rice</td>\n",
       "    </tr>\n",
       "    <tr>\n",
       "      <th>4</th>\n",
       "      <td>78</td>\n",
       "      <td>42</td>\n",
       "      <td>42</td>\n",
       "      <td>20.130175</td>\n",
       "      <td>81.604873</td>\n",
       "      <td>7.628473</td>\n",
       "      <td>262.717340</td>\n",
       "      <td>rice</td>\n",
       "    </tr>\n",
       "  </tbody>\n",
       "</table>\n",
       "</div>"
      ],
      "text/plain": [
       "    N   P   K  temperature   humidity        ph    rainfall label\n",
       "0  90  42  43    20.879744  82.002744  6.502985  202.935536  rice\n",
       "1  85  58  41    21.770462  80.319644  7.038096  226.655537  rice\n",
       "2  60  55  44    23.004459  82.320763  7.840207  263.964248  rice\n",
       "3  74  35  40    26.491096  80.158363  6.980401  242.864034  rice\n",
       "4  78  42  42    20.130175  81.604873  7.628473  262.717340  rice"
      ]
     },
     "execution_count": 4,
     "metadata": {},
     "output_type": "execute_result"
    }
   ],
   "source": [
    "# head of the dataset\n",
    "data.head()"
   ]
  },
  {
   "cell_type": "code",
   "execution_count": 5,
   "id": "8318768c",
   "metadata": {},
   "outputs": [
    {
     "data": {
      "text/plain": [
       "N              0\n",
       "P              0\n",
       "K              0\n",
       "temperature    0\n",
       "humidity       0\n",
       "ph             0\n",
       "rainfall       0\n",
       "label          0\n",
       "dtype: int64"
      ]
     },
     "execution_count": 5,
     "metadata": {},
     "output_type": "execute_result"
    }
   ],
   "source": [
    "# check if there is any missing value present in the dataset \n",
    "data.isnull().sum()"
   ]
  },
  {
   "cell_type": "code",
   "execution_count": 6,
   "id": "89086447",
   "metadata": {},
   "outputs": [
    {
     "data": {
      "text/plain": [
       "rice           100\n",
       "maize          100\n",
       "jute           100\n",
       "cotton         100\n",
       "coconut        100\n",
       "papaya         100\n",
       "orange         100\n",
       "apple          100\n",
       "muskmelon      100\n",
       "watermelon     100\n",
       "grapes         100\n",
       "mango          100\n",
       "banana         100\n",
       "pomegranate    100\n",
       "lentil         100\n",
       "blackgram      100\n",
       "mungbean       100\n",
       "mothbeans      100\n",
       "pigeonpeas     100\n",
       "kidneybeans    100\n",
       "chickpea       100\n",
       "coffee         100\n",
       "Name: label, dtype: int64"
      ]
     },
     "execution_count": 6,
     "metadata": {},
     "output_type": "execute_result"
    }
   ],
   "source": [
    "# the crops present in the dataset\n",
    "data['label'].value_counts()"
   ]
  },
  {
   "cell_type": "code",
   "execution_count": 7,
   "id": "0558df31",
   "metadata": {},
   "outputs": [
    {
     "name": "stdout",
     "output_type": "stream",
     "text": [
      "Average Ratio of Nitrogen in the Soil : 50.551818\n",
      "Average Ratio of Phosphorous in the Soil : 53.362727\n",
      "Average Ratio of Potassium in the Soil : 48.149091\n",
      "Average Tempature in Celsius : 25.616244\n",
      "Average Tempature Humidity in % : 71.481779\n",
      "Average PH Value of the soil: 6.469480\n",
      "Average Rainfall in mm : 103.463655\n"
     ]
    }
   ],
   "source": [
    "# the Summary for all the crops\n",
    "\n",
    "print(\"Average Ratio of Nitrogen in the Soil : {0:2f}\".format(data['N'].mean()))\n",
    "print(\"Average Ratio of Phosphorous in the Soil : {0:2f}\".format(data['P'].mean()))\n",
    "print(\"Average Ratio of Potassium in the Soil : {0:2f}\".format(data['K'].mean()))\n",
    "print(\"Average Tempature in Celsius : {0:2f}\".format(data['temperature'].mean()))\n",
    "print(\"Average Tempature Humidity in % : {0:2f}\".format(data['humidity'].mean()))\n",
    "print(\"Average PH Value of the soil: {0:2f}\".format(data['ph'].mean()))\n",
    "print(\"Average Rainfall in mm : {0:2f}\".format(data['rainfall'].mean()))"
   ]
  },
  {
   "cell_type": "code",
   "execution_count": 8,
   "id": "047fc8fb",
   "metadata": {},
   "outputs": [
    {
     "data": {
      "application/vnd.jupyter.widget-view+json": {
       "model_id": "364eb41c2dfc40d79546d05cd4845dc9",
       "version_major": 2,
       "version_minor": 0
      },
      "text/plain": [
       "interactive(children=(Dropdown(description='crops', options=('rice', 'maize', 'jute', 'cotton', 'coconut', 'pa…"
      ]
     },
     "metadata": {},
     "output_type": "display_data"
    }
   ],
   "source": [
    "# The Summary Statistics for each of the Crops\n",
    "\n",
    "@interact\n",
    "def summary(crops = list(data['label'].value_counts().index)):\n",
    "    X = data[data['label'] == crops]\n",
    "    print(\"-------------------------------------------\")\n",
    "    print(\"Statistics for Nitrogen\")\n",
    "    print(\"Minimum Nitrigen required :\" ,X['N'].min())\n",
    "    print(\"Average Nitrigen required :\" ,X['N'].mean())\n",
    "    print(\"Maximum Nitrigen required :\" ,X['N'].max())\n",
    "    print(\"-------------------------------------------\")\n",
    "    print(\"Statistics for Phosphorous\")\n",
    "    print(\"Minimum Phosphorous required :\" ,X['P'].min())\n",
    "    print(\"Average Phosphorous required :\" ,X['P'].mean())\n",
    "    print(\"Maximum Phosphorous required :\" ,X['P'].max())\n",
    "    print(\"-------------------------------------------\")\n",
    "    print(\"Statistics for Potassium\")\n",
    "    print(\"Minimum Potassium required :\" ,X['K'].min())\n",
    "    print(\"Average Potassium required :\" ,X['K'].mean())\n",
    "    print(\"Maximum Potassium required :\" ,X['K'].max())\n",
    "    print(\"-------------------------------------------\")\n",
    "    print(\"Statistics for Tempature\")\n",
    "    print(\"Minimum Tempature required :{0:2f}\".format(X['temperature'].min()))\n",
    "    print(\"Average Tempature required :{0:2f}\".format(X['temperature'].mean()))\n",
    "    print(\"Maximum Tempature required :{0:2f}\".format(X['temperature'].max()))\n",
    "    print(\"-------------------------------------------\")\n",
    "    print(\"Statistics for Humidity\")\n",
    "    print(\"Minimum Humidity required :{0:2f}\".format(X['humidity'].min()))\n",
    "    print(\"Average Humidity required :{0:2f}\".format(X['humidity'].mean()))\n",
    "    print(\"Maximum Humidity required :{0:2f}\".format(X['humidity'].max()))\n",
    "    print(\"-------------------------------------------\")\n",
    "    print(\"Statistics for PH\")\n",
    "    print(\"Minimum PH required :{0:2f}\".format(X['ph'].min()))\n",
    "    print(\"Average PH required :{0:2f}\".format(X['ph'].mean()))\n",
    "    print(\"Maximum PH required :{0:2f}\".format(X['ph'].max()))\n",
    "    print(\"-------------------------------------------\")\n",
    "    print(\"Statistics for Rainfall\")\n",
    "    print(\"Minimum Rainfall required :{0:2f}\".format(X['rainfall'].min()))\n",
    "    print(\"Average Rainfall required :{0:2f}\".format(X['rainfall'].mean()))\n",
    "    print(\"Maximum Rainfall required :{0:2f}\".format(X['rainfall'].max()))\n",
    "    "
   ]
  },
  {
   "cell_type": "code",
   "execution_count": 9,
   "id": "2e20e584",
   "metadata": {},
   "outputs": [
    {
     "data": {
      "application/vnd.jupyter.widget-view+json": {
       "model_id": "22541376e15540fab6086aa42e0eb1ac",
       "version_major": 2,
       "version_minor": 0
      },
      "text/plain": [
       "interactive(children=(Dropdown(description='conditions', options=('N', 'P', 'K', 'temperature', 'ph', 'humidit…"
      ]
     },
     "metadata": {},
     "output_type": "display_data"
    }
   ],
   "source": [
    "#  compare the Average Requirement for each crops with    average conditions.\n",
    "\n",
    "@interact\n",
    "def compare(conditions =['N','P','K','temperature','ph','humidity','rainfall']):\n",
    "    print(\"Average value for\" , conditions ,\"is {0:2f}\".format(data[conditions].mean()))\n",
    "    print(\"-------------------------------------------\")\n",
    "    print(\"Rice : {0:2f}\".format(data[(data['label'] == 'rice')][conditions].mean()))\n",
    "    print(\"blackgram : {0:2f}\".format(data[(data['label'] == 'blackgram')][conditions].mean()))\n",
    "    print(\"Banana  : {0:2f}\".format(data[(data['label'] == 'banana')][conditions].mean()))   \n",
    "    print(\"Jute : {0:2f}\".format(data[(data['label'] == 'jute')][conditions].mean())) \n",
    "    print(\"Coconut : {0:2f}\".format(data[(data['label'] == 'coconut')][conditions].mean())) \n",
    "    print(\"Apple : {0:2f}\".format(data[(data['label'] == 'apple')][conditions].mean())) \n",
    "    print(\"Papaya : {0:2f}\".format(data[(data['label'] == 'papaya')][conditions].mean()))\n",
    "    print(\"Muskmelon  : {0:2f}\".format(data[(data['label'] == 'muskmelon')][conditions].mean()))  \n",
    "    print(\"Grapes  : {0:2f}\".format(data[(data['label'] == 'grapes')][conditions].mean())) \n",
    "    print(\"Watermelon  : {0:2f}\".format(data[(data['label'] == 'watermelon')][conditions].mean()))\n",
    "    print(\"kidneybeans : {0:2f}\".format(data[(data['label'] == 'kidneybeans')][conditions].mean())) \n",
    "    print(\"Mung Bean  : {0:2f}\".format(data[(data['label'] == 'mungbean')][conditions].mean()))\n",
    "    print(\"Oranges : {0:2f}\".format(data[(data['label'] == 'orange')][conditions].mean()))\n",
    "    print(\"Chick Peas : {0:2f}\".format(data[(data['label'] == 'chickpea')][conditions].mean()))\n",
    "    print(\"Lentils : {0:2f}\".format(data[(data['label'] == 'lentil')][conditions].mean()))\n",
    "    print(\"cotton : {0:2f}\".format(data[(data['label'] == 'cotton')][conditions].mean()))\n",
    "    print(\"Maize  : {0:2f}\".format(data[(data['label'] == 'maize')][conditions].mean()))\n",
    "    print(\"mothbeans : {0:2f}\".format(data[(data['label'] == 'mothbeans')][conditions].mean()))\n",
    "    print(\"pigeonpeas : {0:2f}\".format(data[(data['label'] == 'pigeonpeas')][conditions].mean()))\n",
    "    print(\"mango : {0:2f}\".format(data[(data['label'] == 'mango')][conditions].mean()))\n",
    "    print(\"pomegranate : {0:2f}\".format(data[(data['label'] == 'pomegranate')][conditions].mean())) \n",
    "    print(\"coffee : {0:2f}\".format(data[(data['label'] == 'coffee')][conditions].mean()))"
   ]
  },
  {
   "cell_type": "code",
   "execution_count": 10,
   "id": "2d30381c",
   "metadata": {},
   "outputs": [
    {
     "data": {
      "application/vnd.jupyter.widget-view+json": {
       "model_id": "ffb2dc48f4084567b780fbcb7d38eb19",
       "version_major": 2,
       "version_minor": 0
      },
      "text/plain": [
       "interactive(children=(Dropdown(description='conditions', options=('N', 'P', 'K', 'temperature', 'ph', 'humidit…"
      ]
     },
     "metadata": {},
     "output_type": "display_data"
    }
   ],
   "source": [
    "# lets make this function more Intuitive\n",
    "\n",
    "@interact\n",
    "def compare(conditions =['N','P','K','temperature','ph','humidity','rainfall']):\n",
    "    print(\"Crops which require greater than average\", conditions,'\\n')\n",
    "    print(data[data[conditions] > data[conditions].mean()]['label'].unique())\n",
    "    print(\"-----------------------------------------------------------------\")\n",
    "    print(\"Crops which require less than average\", conditions,'\\n')\n",
    "    print(data[data[conditions] <= data[conditions].mean()]['label'].unique())"
   ]
  },
  {
   "cell_type": "code",
   "execution_count": 11,
   "id": "85663505",
   "metadata": {},
   "outputs": [
    {
     "name": "stderr",
     "output_type": "stream",
     "text": [
      "C:\\new anaconda\\lib\\site-packages\\seaborn\\distributions.py:2619: FutureWarning: `distplot` is a deprecated function and will be removed in a future version. Please adapt your code to use either `displot` (a figure-level function with similar flexibility) or `histplot` (an axes-level function for histograms).\n",
      "  warnings.warn(msg, FutureWarning)\n",
      "C:\\new anaconda\\lib\\site-packages\\seaborn\\distributions.py:2619: FutureWarning: `distplot` is a deprecated function and will be removed in a future version. Please adapt your code to use either `displot` (a figure-level function with similar flexibility) or `histplot` (an axes-level function for histograms).\n",
      "  warnings.warn(msg, FutureWarning)\n",
      "C:\\new anaconda\\lib\\site-packages\\seaborn\\distributions.py:2619: FutureWarning: `distplot` is a deprecated function and will be removed in a future version. Please adapt your code to use either `displot` (a figure-level function with similar flexibility) or `histplot` (an axes-level function for histograms).\n",
      "  warnings.warn(msg, FutureWarning)\n",
      "C:\\new anaconda\\lib\\site-packages\\seaborn\\distributions.py:2619: FutureWarning: `distplot` is a deprecated function and will be removed in a future version. Please adapt your code to use either `displot` (a figure-level function with similar flexibility) or `histplot` (an axes-level function for histograms).\n",
      "  warnings.warn(msg, FutureWarning)\n",
      "C:\\new anaconda\\lib\\site-packages\\seaborn\\distributions.py:2619: FutureWarning: `distplot` is a deprecated function and will be removed in a future version. Please adapt your code to use either `displot` (a figure-level function with similar flexibility) or `histplot` (an axes-level function for histograms).\n",
      "  warnings.warn(msg, FutureWarning)\n",
      "C:\\new anaconda\\lib\\site-packages\\seaborn\\distributions.py:2619: FutureWarning: `distplot` is a deprecated function and will be removed in a future version. Please adapt your code to use either `displot` (a figure-level function with similar flexibility) or `histplot` (an axes-level function for histograms).\n",
      "  warnings.warn(msg, FutureWarning)\n",
      "C:\\new anaconda\\lib\\site-packages\\seaborn\\distributions.py:2619: FutureWarning: `distplot` is a deprecated function and will be removed in a future version. Please adapt your code to use either `displot` (a figure-level function with similar flexibility) or `histplot` (an axes-level function for histograms).\n",
      "  warnings.warn(msg, FutureWarning)\n"
     ]
    },
    {
     "data": {
      "image/png": "[encoded data removed]",
      "text/plain": [
       "<Figure size 1080x432 with 7 Axes>"
      ]
     },
     "metadata": {
      "needs_background": "light"
     },
     "output_type": "display_data"
    }
   ],
   "source": [
    "# pyplot \n",
    "# seabron libray is visualization library\n",
    "\n",
    "plt.rcParams['figure.figsize']=(15,6)\n",
    "plt.subplot(2,4,1)\n",
    "sns.distplot(data['K'],color='red')\n",
    "plt.xlabel('Ratio of Potassium',fontsize=12)\n",
    "plt.grid()\n",
    "\n",
    "plt.subplot(2,4,2)\n",
    "sns.distplot(data['P'],color='blue')\n",
    "plt.xlabel('Ratio of Phosphoras',fontsize=12)\n",
    "plt.grid()\n",
    "\n",
    "plt.subplot(2,4,3)\n",
    "sns.distplot(data['N'],color='green')\n",
    "plt.xlabel(\"Ratio of Nitrogen\",fontsize=12)\n",
    "plt.grid()\n",
    "\n",
    "plt.subplot(2,4,4)\n",
    "sns.distplot(data['ph'],color='yellow')\n",
    "plt.xlabel(\"Ratio of PH\",fontsize=12)\n",
    "plt.grid()\n",
    "\n",
    "plt.subplot(2,4,5)\n",
    "sns.distplot(data['temperature'],color='pink')\n",
    "plt.xlabel('Ratio of Temperature',fontsize=12)\n",
    "plt.grid()\n",
    "\n",
    "plt.subplot(2,4,6)\n",
    "sns.distplot(data['humidity'],color='orange')\n",
    "plt.xlabel('Ratio of Humidity',fontsize=12)\n",
    "plt.grid()\n",
    "\n",
    "plt.subplot(2,4,7)\n",
    "sns.distplot(data['rainfall'],color='blue')\n",
    "plt.xlabel(\"Ratio of rainfall\",fontsize=12)\n",
    "plt.grid()\n",
    "\n",
    "plt.suptitle(\"Distribution for Agriculture Condition\")\n",
    "plt.show()"
   ]
  },
  {
   "cell_type": "code",
   "execution_count": 12,
   "id": "963a15f9",
   "metadata": {},
   "outputs": [
    {
     "name": "stdout",
     "output_type": "stream",
     "text": [
      " Some Interesting Pattern\n",
      "---------------------------------------------\n",
      "crops which requires very high ratio of Nitrogen content in soil: ['cotton']\n",
      "crops which requires very high ratio of Phosphorous content in soil: ['grapes' 'apple']\n",
      "crops which requires very high ratio of Potassium content in soil: ['grapes' 'apple']\n",
      "crops which requires very high rainfall: ['rice' 'papaya' 'coconut']\n",
      "crops which requires very low temperature: ['grapes']\n",
      "crops which requires very high temperature: ['grapes' 'papaya']\n",
      "crops which requires very low humidity: ['chickpea' 'kidneybeans']\n",
      "crops which requires very low ph: ['mothbeans']\n",
      "crops which requires very high ph: ['mothbeans']\n"
     ]
    }
   ],
   "source": [
    "# find out some Interesting Facts\n",
    "\n",
    "print(\" Some Interesting Pattern\")\n",
    "print(\"---------------------------------------------\")\n",
    "print('crops which requires very high ratio of Nitrogen content in soil:', data[data['N']>120]['label'].unique())\n",
    "print('crops which requires very high ratio of Phosphorous content in soil:', data[data['P']>100]['label'].unique())\n",
    "print('crops which requires very high ratio of Potassium content in soil:', data[data['K']>200]['label'].unique())\n",
    "print('crops which requires very high rainfall:', data[data['rainfall']>200]['label'].unique())\n",
    "print('crops which requires very low temperature:', data[data['temperature']<10]['label'].unique())\n",
    "print('crops which requires very high temperature:', data[data['temperature']>40]['label'].unique())\n",
    "print('crops which requires very low humidity:', data[data['humidity']<20]['label'].unique())\n",
    "print('crops which requires very low ph:', data[data['ph']<4]['label'].unique())\n",
    "print('crops which requires very high ph:', data[data['ph']>9]['label'].unique())"
   ]
  },
  {
   "cell_type": "code",
   "execution_count": 13,
   "id": "c33ca6c3",
   "metadata": {},
   "outputs": [
    {
     "name": "stdout",
     "output_type": "stream",
     "text": [
      "Summer Crops:\n",
      "['pigeonpeas' 'mothbeans' 'blackgram' 'mango' 'grapes' 'orange' 'papaya']\n",
      "Winter Crops:\n",
      "['maize' 'pigeonpeas' 'lentil' 'pomegranate' 'grapes' 'orange']\n",
      "Rainy Crops:\n",
      "['rice' 'papaya' 'coconut']\n"
     ]
    }
   ],
   "source": [
    "# Understand which crops can only be Grow in Summer Season , Winter Season and Rainy Season\n",
    "\n",
    "print('Summer Crops:')\n",
    "print(data[(data['temperature']>30) & (data['humidity']>50)]['label'].unique())\n",
    "print('Winter Crops:')\n",
    "print(data[(data['temperature']<20) & (data['humidity']>30)]['label'].unique())\n",
    "print('Rainy Crops:')\n",
    "print(data[(data['rainfall']>200) & (data['humidity']>30)]['label'].unique())"
   ]
  },
  {
   "cell_type": "code",
   "execution_count": 14,
   "id": "0302ef6e",
   "metadata": {},
   "outputs": [
    {
     "name": "stdout",
     "output_type": "stream",
     "text": [
      "(2200, 7)\n"
     ]
    }
   ],
   "source": [
    "\n",
    "x = data.drop(['label'],axis=1)   # removing the labels column\n",
    "\n",
    "x_data = x.values   # selecting all the values of the data\n",
    "\n",
    "print(x.shape)       # shape "
   ]
  },
  {
   "cell_type": "code",
   "execution_count": 15,
   "id": "ee5865b7",
   "metadata": {},
   "outputs": [
    {
     "data": {
      "image/png": "[encoded data removed]",
      "text/plain": [
       "<Figure size 720x288 with 1 Axes>"
      ]
     },
     "metadata": {
      "needs_background": "light"
     },
     "output_type": "display_data"
    }
   ],
   "source": [
    "#sklearn.cluster\n",
    "from sklearn.cluster import KMeans\n",
    "plt.rcParams['figure.figsize'] = (10,4)\n",
    "wcss = []\n",
    "for i in range (1,11):\n",
    "    km = KMeans(n_clusters =i, init= 'k-means++', max_iter=300, n_init=10, random_state=0)\n",
    "    km.fit(x)\n",
    "    wcss.append(km.inertia_)\n",
    "    \n",
    "#plot the results\n",
    "plt.plot(range(1,11), wcss)\n",
    "plt.title('Elbow Method', fontsize= 15)\n",
    "plt.xlabel('No. of cluster')\n",
    "plt.ylabel('wcss')\n",
    "plt.show()"
   ]
  },
  {
   "cell_type": "code",
   "execution_count": 16,
   "id": "725a8e02",
   "metadata": {},
   "outputs": [
    {
     "name": "stdout",
     "output_type": "stream",
     "text": [
      " Lets check the Result After the K Means Clustering Analysis \n",
      " \n",
      "Crops in First Cluster: ['maize' 'chickpea' 'kidneybeans' 'pigeonpeas' 'mothbeans' 'mungbean'\n",
      " 'blackgram' 'lentil' 'pomegranate' 'mango' 'orange' 'papaya' 'coconut']\n",
      "----------------------------------------------\n",
      "Crops in First Cluster: ['maize' 'banana' 'watermelon' 'muskmelon' 'papaya' 'cotton' 'coffee']\n",
      "----------------------------------------------\n",
      "Crops in First Cluster: ['grapes' 'apple']\n",
      "----------------------------------------------\n",
      "Crops in First Cluster: ['rice' 'pigeonpeas' 'papaya' 'coconut' 'jute' 'coffee']\n"
     ]
    }
   ],
   "source": [
    "km = KMeans(n_clusters =4, init= 'k-means++', max_iter=300, n_init=10, random_state=0)\n",
    "y_means= km.fit_predict(x)\n",
    "\n",
    "a = data['label']    # find out the result\n",
    "y_means = pd.DataFrame(y_means)\n",
    "z = pd.concat([y_means, a], axis=1)\n",
    "z =z.rename(columns= {0:'cluster'})\n",
    "\n",
    "# check the Clusters of each Crops\n",
    "print(\" Lets check the Result After the K Means Clustering Analysis \\n \")\n",
    "print(\"Crops in First Cluster:\",z[z['cluster'] ==0]['label'].unique())\n",
    "print(\"----------------------------------------------\")\n",
    "print(\"Crops in First Cluster:\",z[z['cluster'] ==1]['label'].unique())\n",
    "print(\"----------------------------------------------\")\n",
    "print(\"Crops in First Cluster:\",z[z['cluster'] ==2]['label'].unique())\n",
    "print(\"----------------------------------------------\")\n",
    "print(\"Crops in First Cluster:\",z[z['cluster'] ==3]['label'].unique())\n"
   ]
  },
  {
   "cell_type": "code",
   "execution_count": 17,
   "id": "ff5c45ed",
   "metadata": {},
   "outputs": [
    {
     "name": "stdout",
     "output_type": "stream",
     "text": [
      "Shape of x: (2200, 7)\n",
      "Shape of y: (2200,)\n"
     ]
    }
   ],
   "source": [
    "# split the Dataset for Predictive Modelling\n",
    "y = data['label']\n",
    "x = data.drop(['label'],axis = 1)\n",
    "\n",
    "print(\"Shape of x:\",x.shape)\n",
    "print(\"Shape of y:\",y.shape)"
   ]
  },
  {
   "cell_type": "code",
   "execution_count": 18,
   "id": "1f867750",
   "metadata": {},
   "outputs": [
    {
     "name": "stdout",
     "output_type": "stream",
     "text": [
      "The Shape of x train: (1760, 7)\n",
      "The Shape of x train: (440, 7)\n",
      "The Shape of y train: (1760,)\n",
      "The Shape of y train: (440,)\n"
     ]
    }
   ],
   "source": [
    "# create Training and testing Set for Validation of Results\n",
    "    \n",
    "from sklearn.model_selection import train_test_split\n",
    "x_train, x_test, y_train, y_test = train_test_split(x,y, test_size=0.2, random_state=0)\n",
    "\n",
    "print(\"The Shape of x train:\", x_train.shape)\n",
    "\n",
    "print(\"The Shape of x train:\", x_test.shape)\n",
    "\n",
    "print(\"The Shape of y train:\", y_train.shape)\n",
    "\n",
    "print(\"The Shape of y train:\", y_test.shape)"
   ]
  },
  {
   "cell_type": "code",
   "execution_count": 19,
   "id": "2b1ccabb",
   "metadata": {},
   "outputs": [
    {
     "data": {
      "text/plain": [
       "LogisticRegression(solver='liblinear')"
      ]
     },
     "execution_count": 19,
     "metadata": {},
     "output_type": "execute_result"
    }
   ],
   "source": [
    "# create a Predictive Model\n",
    "\n",
    "from sklearn.linear_model import LogisticRegression\n",
    "log_model=LogisticRegression(solver='liblinear')\n",
    "log_model.fit(x_train.values,y_train.values)"
   ]
  },
  {
   "cell_type": "code",
   "execution_count": 20,
   "id": "99de84c9",
   "metadata": {},
   "outputs": [],
   "source": [
    "y_pred=log_model.predict(x_test.values)"
   ]
  },
  {
   "cell_type": "code",
   "execution_count": 21,
   "id": "5e88b4a4",
   "metadata": {},
   "outputs": [
    {
     "data": {
      "image/png": "[encoded data removed]",
      "text/plain": [
       "<Figure size 576x576 with 2 Axes>"
      ]
     },
     "metadata": {
      "needs_background": "light"
     },
     "output_type": "display_data"
    }
   ],
   "source": [
    "# evaluate the model performance\n",
    "\n",
    "from sklearn.metrics import confusion_matrix\n",
    "\n",
    "plt.rcParams['figure.figsize']=(8,8)\n",
    "cm=confusion_matrix(y_test,y_pred)\n",
    "sns.heatmap(cm,annot=True,cmap='Wistia')\n",
    "plt.title('Confusion matrix for logistic Regression',fontsize=15)\n",
    "plt.show()"
   ]
  },
  {
   "cell_type": "code",
   "execution_count": 22,
   "id": "3ad5be1c",
   "metadata": {},
   "outputs": [
    {
     "name": "stdout",
     "output_type": "stream",
     "text": [
      "              precision    recall  f1-score   support\n",
      "\n",
      "       apple       1.00      1.00      1.00        18\n",
      "      banana       1.00      0.94      0.97        18\n",
      "   blackgram       0.88      1.00      0.94        22\n",
      "    chickpea       1.00      1.00      1.00        23\n",
      "     coconut       1.00      1.00      1.00        15\n",
      "      coffee       1.00      1.00      1.00        17\n",
      "      cotton       0.89      1.00      0.94        16\n",
      "      grapes       1.00      1.00      1.00        18\n",
      "        jute       0.86      0.86      0.86        21\n",
      " kidneybeans       0.95      1.00      0.98        20\n",
      "      lentil       1.00      0.88      0.94        17\n",
      "       maize       1.00      0.89      0.94        18\n",
      "       mango       1.00      1.00      1.00        21\n",
      "   mothbeans       1.00      0.84      0.91        25\n",
      "    mungbean       0.94      1.00      0.97        17\n",
      "   muskmelon       1.00      1.00      1.00        23\n",
      "      orange       1.00      1.00      1.00        23\n",
      "      papaya       0.87      0.95      0.91        21\n",
      "  pigeonpeas       0.95      0.95      0.95        22\n",
      " pomegranate       1.00      1.00      1.00        23\n",
      "        rice       0.88      0.88      0.88        25\n",
      "  watermelon       1.00      1.00      1.00        17\n",
      "\n",
      "    accuracy                           0.96       440\n",
      "   macro avg       0.96      0.96      0.96       440\n",
      "weighted avg       0.96      0.96      0.96       440\n",
      "\n"
     ]
    }
   ],
   "source": [
    "# the Classification Report\n",
    "\n",
    "cr = classification_report(y_test,y_pred)\n",
    "print(cr)"
   ]
  },
  {
   "cell_type": "code",
   "execution_count": 23,
   "id": "e71b1bb6",
   "metadata": {},
   "outputs": [
    {
     "data": {
      "text/html": [
       "<div>\n",
       "<style scoped>\n",
       "    .dataframe tbody tr th:only-of-type {\n",
       "        vertical-align: middle;\n",
       "    }\n",
       "\n",
       "    .dataframe tbody tr th {\n",
       "        vertical-align: top;\n",
       "    }\n",
       "\n",
       "    .dataframe thead th {\n",
       "        text-align: right;\n",
       "    }\n",
       "</style>\n",
       "<table border=\"1\" class=\"dataframe\">\n",
       "  <thead>\n",
       "    <tr style=\"text-align: right;\">\n",
       "      <th></th>\n",
       "      <th>N</th>\n",
       "      <th>P</th>\n",
       "      <th>K</th>\n",
       "      <th>temperature</th>\n",
       "      <th>humidity</th>\n",
       "      <th>ph</th>\n",
       "      <th>rainfall</th>\n",
       "      <th>label</th>\n",
       "    </tr>\n",
       "  </thead>\n",
       "  <tbody>\n",
       "    <tr>\n",
       "      <th>0</th>\n",
       "      <td>90</td>\n",
       "      <td>42</td>\n",
       "      <td>43</td>\n",
       "      <td>20.879744</td>\n",
       "      <td>82.002744</td>\n",
       "      <td>6.502985</td>\n",
       "      <td>202.935536</td>\n",
       "      <td>rice</td>\n",
       "    </tr>\n",
       "    <tr>\n",
       "      <th>1</th>\n",
       "      <td>85</td>\n",
       "      <td>58</td>\n",
       "      <td>41</td>\n",
       "      <td>21.770462</td>\n",
       "      <td>80.319644</td>\n",
       "      <td>7.038096</td>\n",
       "      <td>226.655537</td>\n",
       "      <td>rice</td>\n",
       "    </tr>\n",
       "    <tr>\n",
       "      <th>2</th>\n",
       "      <td>60</td>\n",
       "      <td>55</td>\n",
       "      <td>44</td>\n",
       "      <td>23.004459</td>\n",
       "      <td>82.320763</td>\n",
       "      <td>7.840207</td>\n",
       "      <td>263.964248</td>\n",
       "      <td>rice</td>\n",
       "    </tr>\n",
       "    <tr>\n",
       "      <th>3</th>\n",
       "      <td>74</td>\n",
       "      <td>35</td>\n",
       "      <td>40</td>\n",
       "      <td>26.491096</td>\n",
       "      <td>80.158363</td>\n",
       "      <td>6.980401</td>\n",
       "      <td>242.864034</td>\n",
       "      <td>rice</td>\n",
       "    </tr>\n",
       "    <tr>\n",
       "      <th>4</th>\n",
       "      <td>78</td>\n",
       "      <td>42</td>\n",
       "      <td>42</td>\n",
       "      <td>20.130175</td>\n",
       "      <td>81.604873</td>\n",
       "      <td>7.628473</td>\n",
       "      <td>262.717340</td>\n",
       "      <td>rice</td>\n",
       "    </tr>\n",
       "  </tbody>\n",
       "</table>\n",
       "</div>"
      ],
      "text/plain": [
       "    N   P   K  temperature   humidity        ph    rainfall label\n",
       "0  90  42  43    20.879744  82.002744  6.502985  202.935536  rice\n",
       "1  85  58  41    21.770462  80.319644  7.038096  226.655537  rice\n",
       "2  60  55  44    23.004459  82.320763  7.840207  263.964248  rice\n",
       "3  74  35  40    26.491096  80.158363  6.980401  242.864034  rice\n",
       "4  78  42  42    20.130175  81.604873  7.628473  262.717340  rice"
      ]
     },
     "execution_count": 23,
     "metadata": {},
     "output_type": "execute_result"
    }
   ],
   "source": [
    "data.head()"
   ]
  },
  {
   "cell_type": "code",
   "execution_count": 24,
   "id": "847c5cba",
   "metadata": {},
   "outputs": [
    {
     "name": "stdout",
     "output_type": "stream",
     "text": [
      "The suggested Crop for such Climate: ['rice']\n"
     ]
    }
   ],
   "source": [
    "# the Classification Report\n",
    "predition=log_model.predict(np.array([[90,40,40,20,80,7,200]]))\n",
    "print(\"The suggested Crop for such Climate:\",predition)"
   ]
  },
  {
   "cell_type": "markdown",
   "id": "34fec4fd",
   "metadata": {},
   "source": [
    "# The Result will help the farmer to do modern farming "
   ]
  },
  {
   "cell_type": "code",
   "execution_count": null,
   "id": "90e8295f",
   "metadata": {},
   "outputs": [],
   "source": []
  }
 ],
 "metadata": {
  "kernelspec": {
   "display_name": "Python 3 (ipykernel)",
   "language": "python",
   "name": "python3"
  },
  "language_info": {
   "codemirror_mode": {
    "name": "ipython",
    "version": 3
   },
   "file_extension": ".py",
   "mimetype": "text/x-python",
   "name": "python",
   "nbconvert_exporter": "python",
   "pygments_lexer": "ipython3",
   "version": "3.9.12"
  }
 },
 "nbformat": 4,
 "nbformat_minor": 5
}
